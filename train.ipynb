{
 "cells": [
  {
   "cell_type": "code",
   "execution_count": 26,
   "id": "60925075",
   "metadata": {},
   "outputs": [
    {
     "name": "stdout",
     "output_type": "stream",
     "text": [
      "Using device: cuda\n"
     ]
    }
   ],
   "source": [
    "\n",
    "import pandas as pd\n",
    "import numpy as np\n",
    "import torch\n",
    "import torch.nn as nn\n",
    "import torch.optim as optim\n",
    "from torch.utils.data import Dataset, DataLoader\n",
    "import re\n",
    "import string\n",
    "from sklearn.model_selection import train_test_split\n",
    "\n",
    "device = torch.device(\"cuda\" if torch.cuda.is_available() else \"cpu\")\n",
    "print(\"Using device:\", device)\n"
   ]
  },
  {
   "cell_type": "code",
   "execution_count": 27,
   "id": "4c2e949b",
   "metadata": {},
   "outputs": [
    {
     "name": "stdout",
     "output_type": "stream",
     "text": [
      "Shape: (3561, 2)\n"
     ]
    },
    {
     "data": {
      "text/html": [
       "<div>\n",
       "<style scoped>\n",
       "    .dataframe tbody tr th:only-of-type {\n",
       "        vertical-align: middle;\n",
       "    }\n",
       "\n",
       "    .dataframe tbody tr th {\n",
       "        vertical-align: top;\n",
       "    }\n",
       "\n",
       "    .dataframe thead th {\n",
       "        text-align: right;\n",
       "    }\n",
       "</style>\n",
       "<table border=\"1\" class=\"dataframe\">\n",
       "  <thead>\n",
       "    <tr style=\"text-align: right;\">\n",
       "      <th></th>\n",
       "      <th>content</th>\n",
       "      <th>label</th>\n",
       "    </tr>\n",
       "  </thead>\n",
       "  <tbody>\n",
       "    <tr>\n",
       "      <th>0</th>\n",
       "      <td>(1960-05-04)I had another neat dream about Blake.</td>\n",
       "      <td>neutral</td>\n",
       "    </tr>\n",
       "    <tr>\n",
       "      <th>1</th>\n",
       "      <td>(1963-??-??)I had a Salvador Dali dream where ...</td>\n",
       "      <td>neutral</td>\n",
       "    </tr>\n",
       "    <tr>\n",
       "      <th>2</th>\n",
       "      <td>(1964-??-??)A red faced devil comes to me and ...</td>\n",
       "      <td>nightmare</td>\n",
       "    </tr>\n",
       "    <tr>\n",
       "      <th>3</th>\n",
       "      <td>(1969-??-??)I woke from a nap unable to rememb...</td>\n",
       "      <td>neutral</td>\n",
       "    </tr>\n",
       "    <tr>\n",
       "      <th>4</th>\n",
       "      <td>(1974-01-17)Dreamt of IVs. Lots of waterfalls.</td>\n",
       "      <td>neutral</td>\n",
       "    </tr>\n",
       "  </tbody>\n",
       "</table>\n",
       "</div>"
      ],
      "text/plain": [
       "                                             content      label\n",
       "0  (1960-05-04)I had another neat dream about Blake.    neutral\n",
       "1  (1963-??-??)I had a Salvador Dali dream where ...    neutral\n",
       "2  (1964-??-??)A red faced devil comes to me and ...  nightmare\n",
       "3  (1969-??-??)I woke from a nap unable to rememb...    neutral\n",
       "4     (1974-01-17)Dreamt of IVs. Lots of waterfalls.    neutral"
      ]
     },
     "execution_count": 27,
     "metadata": {},
     "output_type": "execute_result"
    }
   ],
   "source": [
    "# Replace with your actual CSV file path\n",
    "df = pd.read_csv(\"dreams_labeled_balanced.csv\")\n",
    "\n",
    "# Assuming columns: 'text' and 'label' (binary classification)\n",
    "df = df.dropna()\n",
    "print(\"Shape:\", df.shape)\n",
    "df.head()\n"
   ]
  },
  {
   "cell_type": "code",
   "execution_count": 28,
   "id": "4fddf83a",
   "metadata": {},
   "outputs": [
    {
     "name": "stdout",
     "output_type": "stream",
     "text": [
      "<class 'pandas.core.frame.DataFrame'>\n",
      "RangeIndex: 3561 entries, 0 to 3560\n",
      "Data columns (total 2 columns):\n",
      " #   Column   Non-Null Count  Dtype \n",
      "---  ------   --------------  ----- \n",
      " 0   content  3561 non-null   object\n",
      " 1   label    3561 non-null   object\n",
      "dtypes: object(2)\n",
      "memory usage: 55.8+ KB\n",
      "None\n",
      "\n",
      "Missing values:\n",
      " content    0\n",
      "label      0\n",
      "dtype: int64\n"
     ]
    },
    {
     "data": {
      "image/png": "[encoded data removed]",
      "text/plain": [
       "<Figure size 640x480 with 1 Axes>"
      ]
     },
     "metadata": {},
     "output_type": "display_data"
    }
   ],
   "source": [
    "# Overview\n",
    "import seaborn as sns\n",
    "import matplotlib.pyplot as plt\n",
    "print(df.info())\n",
    "print(\"\\nMissing values:\\n\", df.isnull().sum())\n",
    "\n",
    "# Label distribution\n",
    "sns.countplot(x='label', data=df)\n",
    "plt.title(\"Label Distribution\")\n",
    "plt.show()\n"
   ]
  },
  {
   "cell_type": "code",
   "execution_count": 29,
   "id": "586e8f33",
   "metadata": {},
   "outputs": [
    {
     "data": {
      "text/html": [
       "<div>\n",
       "<style scoped>\n",
       "    .dataframe tbody tr th:only-of-type {\n",
       "        vertical-align: middle;\n",
       "    }\n",
       "\n",
       "    .dataframe tbody tr th {\n",
       "        vertical-align: top;\n",
       "    }\n",
       "\n",
       "    .dataframe thead th {\n",
       "        text-align: right;\n",
       "    }\n",
       "</style>\n",
       "<table border=\"1\" class=\"dataframe\">\n",
       "  <thead>\n",
       "    <tr style=\"text-align: right;\">\n",
       "      <th></th>\n",
       "      <th>content</th>\n",
       "      <th>label</th>\n",
       "      <th>label_encoded</th>\n",
       "    </tr>\n",
       "  </thead>\n",
       "  <tbody>\n",
       "    <tr>\n",
       "      <th>0</th>\n",
       "      <td>(1960-05-04)I had another neat dream about Blake.</td>\n",
       "      <td>neutral</td>\n",
       "      <td>1</td>\n",
       "    </tr>\n",
       "    <tr>\n",
       "      <th>1</th>\n",
       "      <td>(1963-??-??)I had a Salvador Dali dream where ...</td>\n",
       "      <td>neutral</td>\n",
       "      <td>1</td>\n",
       "    </tr>\n",
       "    <tr>\n",
       "      <th>2</th>\n",
       "      <td>(1964-??-??)A red faced devil comes to me and ...</td>\n",
       "      <td>nightmare</td>\n",
       "      <td>2</td>\n",
       "    </tr>\n",
       "    <tr>\n",
       "      <th>3</th>\n",
       "      <td>(1969-??-??)I woke from a nap unable to rememb...</td>\n",
       "      <td>neutral</td>\n",
       "      <td>1</td>\n",
       "    </tr>\n",
       "    <tr>\n",
       "      <th>4</th>\n",
       "      <td>(1974-01-17)Dreamt of IVs. Lots of waterfalls.</td>\n",
       "      <td>neutral</td>\n",
       "      <td>1</td>\n",
       "    </tr>\n",
       "  </tbody>\n",
       "</table>\n",
       "</div>"
      ],
      "text/plain": [
       "                                             content      label  label_encoded\n",
       "0  (1960-05-04)I had another neat dream about Blake.    neutral              1\n",
       "1  (1963-??-??)I had a Salvador Dali dream where ...    neutral              1\n",
       "2  (1964-??-??)A red faced devil comes to me and ...  nightmare              2\n",
       "3  (1969-??-??)I woke from a nap unable to rememb...    neutral              1\n",
       "4     (1974-01-17)Dreamt of IVs. Lots of waterfalls.    neutral              1"
      ]
     },
     "execution_count": 29,
     "metadata": {},
     "output_type": "execute_result"
    }
   ],
   "source": [
    "import pandas as pd\n",
    "from sklearn.preprocessing import LabelEncoder\n",
    "\n",
    "\n",
    "# Encode labels\n",
    "label_encoder = LabelEncoder()\n",
    "df[\"label_encoded\"] = label_encoder.fit_transform(df[\"label\"])\n",
    "\n",
    "# Mapping (save for inference)\n",
    "label2idx = {label: idx for idx, label in enumerate(label_encoder.classes_)}\n",
    "idx2label = {idx: label for label, idx in label2idx.items()}\n",
    "\n",
    "df.head()\n"
   ]
  },
  {
   "cell_type": "code",
   "execution_count": 30,
   "id": "ed259ee1",
   "metadata": {},
   "outputs": [
    {
     "name": "stdout",
     "output_type": "stream",
     "text": [
      "[29, 9, 47, 5, 446]\n"
     ]
    }
   ],
   "source": [
    "from collections import Counter\n",
    "from torch.nn.utils.rnn import pad_sequence\n",
    "\n",
    "# Tokenizer\n",
    "def tokenizer(text):\n",
    "    return text.lower().split()\n",
    "\n",
    "# Build vocab manually\n",
    "counter = Counter()\n",
    "for line in df[\"content\"]:\n",
    "    counter.update(tokenizer(line))\n",
    "\n",
    "# Limit vocab size (optional)\n",
    "vocab_limit = 10000\n",
    "special_tokens = [\"<unk>\", \"<pad>\"]\n",
    "most_common = special_tokens + [word for word, _ in counter.most_common(vocab_limit - len(special_tokens))]\n",
    "word2idx = {word: idx for idx, word in enumerate(most_common)}\n",
    "word2idx[\"<unk>\"] = 0\n",
    "word2idx[\"<pad>\"] = 1\n",
    "pad_idx = word2idx[\"<pad>\"]\n",
    "\n",
    "def numericalize(text):\n",
    "    return [word2idx.get(token, word2idx[\"<unk>\"]) for token in tokenizer(text)]\n",
    "\n",
    "# Example\n",
    "print(numericalize(\"This is just a dream\"))\n"
   ]
  },
  {
   "cell_type": "code",
   "execution_count": 31,
   "id": "d4b2248f",
   "metadata": {},
   "outputs": [],
   "source": [
    "df=df.drop('label', axis=1)"
   ]
  },
  {
   "cell_type": "code",
   "execution_count": 32,
   "id": "2254bd23",
   "metadata": {},
   "outputs": [
    {
     "data": {
      "text/html": [
       "<div>\n",
       "<style scoped>\n",
       "    .dataframe tbody tr th:only-of-type {\n",
       "        vertical-align: middle;\n",
       "    }\n",
       "\n",
       "    .dataframe tbody tr th {\n",
       "        vertical-align: top;\n",
       "    }\n",
       "\n",
       "    .dataframe thead th {\n",
       "        text-align: right;\n",
       "    }\n",
       "</style>\n",
       "<table border=\"1\" class=\"dataframe\">\n",
       "  <thead>\n",
       "    <tr style=\"text-align: right;\">\n",
       "      <th></th>\n",
       "      <th>content</th>\n",
       "      <th>label_encoded</th>\n",
       "    </tr>\n",
       "  </thead>\n",
       "  <tbody>\n",
       "    <tr>\n",
       "      <th>0</th>\n",
       "      <td>(1960-05-04)I had another neat dream about Blake.</td>\n",
       "      <td>1</td>\n",
       "    </tr>\n",
       "    <tr>\n",
       "      <th>1</th>\n",
       "      <td>(1963-??-??)I had a Salvador Dali dream where ...</td>\n",
       "      <td>1</td>\n",
       "    </tr>\n",
       "    <tr>\n",
       "      <th>2</th>\n",
       "      <td>(1964-??-??)A red faced devil comes to me and ...</td>\n",
       "      <td>2</td>\n",
       "    </tr>\n",
       "    <tr>\n",
       "      <th>3</th>\n",
       "      <td>(1969-??-??)I woke from a nap unable to rememb...</td>\n",
       "      <td>1</td>\n",
       "    </tr>\n",
       "    <tr>\n",
       "      <th>4</th>\n",
       "      <td>(1974-01-17)Dreamt of IVs. Lots of waterfalls.</td>\n",
       "      <td>1</td>\n",
       "    </tr>\n",
       "    <tr>\n",
       "      <th>...</th>\n",
       "      <td>...</td>\n",
       "      <td>...</td>\n",
       "    </tr>\n",
       "    <tr>\n",
       "      <th>3556</th>\n",
       "      <td>(12/7/92)I am some sort of clerk, perhaps a me...</td>\n",
       "      <td>2</td>\n",
       "    </tr>\n",
       "    <tr>\n",
       "      <th>3557</th>\n",
       "      <td>(12/2/92)I am watching TV early in the morning...</td>\n",
       "      <td>3</td>\n",
       "    </tr>\n",
       "    <tr>\n",
       "      <th>3558</th>\n",
       "      <td>(8/3/94)I'm in the library, just arriving (lat...</td>\n",
       "      <td>3</td>\n",
       "    </tr>\n",
       "    <tr>\n",
       "      <th>3559</th>\n",
       "      <td>[lost - do some stuff, notice the clock, somet...</td>\n",
       "      <td>3</td>\n",
       "    </tr>\n",
       "    <tr>\n",
       "      <th>3560</th>\n",
       "      <td>(11/23/97)Dana Scully is pushing a shopping ca...</td>\n",
       "      <td>3</td>\n",
       "    </tr>\n",
       "  </tbody>\n",
       "</table>\n",
       "<p>3561 rows × 2 columns</p>\n",
       "</div>"
      ],
      "text/plain": [
       "                                                content  label_encoded\n",
       "0     (1960-05-04)I had another neat dream about Blake.              1\n",
       "1     (1963-??-??)I had a Salvador Dali dream where ...              1\n",
       "2     (1964-??-??)A red faced devil comes to me and ...              2\n",
       "3     (1969-??-??)I woke from a nap unable to rememb...              1\n",
       "4        (1974-01-17)Dreamt of IVs. Lots of waterfalls.              1\n",
       "...                                                 ...            ...\n",
       "3556  (12/7/92)I am some sort of clerk, perhaps a me...              2\n",
       "3557  (12/2/92)I am watching TV early in the morning...              3\n",
       "3558  (8/3/94)I'm in the library, just arriving (lat...              3\n",
       "3559  [lost - do some stuff, notice the clock, somet...              3\n",
       "3560  (11/23/97)Dana Scully is pushing a shopping ca...              3\n",
       "\n",
       "[3561 rows x 2 columns]"
      ]
     },
     "execution_count": 32,
     "metadata": {},
     "output_type": "execute_result"
    }
   ],
   "source": [
    "df"
   ]
  },
  {
   "cell_type": "code",
   "execution_count": 33,
   "id": "cbff95c0",
   "metadata": {},
   "outputs": [],
   "source": [
    "# 🧪 5. Stratified Split\n",
    "train_df, val_df = train_test_split(df, test_size=0.2, stratify=df[\"label_encoded\"], random_state=42)\n"
   ]
  },
  {
   "cell_type": "code",
   "execution_count": 34,
   "id": "89c8362a",
   "metadata": {},
   "outputs": [],
   "source": [
    "# 🧺 6. Dataset + Dataloader\n",
    "class DreamDataset(Dataset):\n",
    "    def __init__(self, df, max_len=100):\n",
    "        self.texts = df[\"content\"].tolist()\n",
    "        self.labels = df[\"label_encoded\"].tolist()\n",
    "        self.max_len = max_len\n",
    "\n",
    "    def __len__(self):\n",
    "        return len(self.texts)\n",
    "\n",
    "    def __getitem__(self, idx):\n",
    "        tokens = numericalize(self.texts[idx])[:self.max_len]\n",
    "        length = len(tokens)\n",
    "        padded = tokens + [pad_idx] * (self.max_len - length)\n",
    "        return torch.tensor(padded), torch.tensor(self.labels[idx])\n",
    "\n",
    "train_data = DreamDataset(train_df)\n",
    "val_data = DreamDataset(val_df)\n",
    "\n",
    "train_loader = DataLoader(train_data, batch_size=32, shuffle=True)\n",
    "val_loader = DataLoader(val_data, batch_size=32)\n"
   ]
  },
  {
   "cell_type": "code",
   "execution_count": 35,
   "id": "9cda7422",
   "metadata": {},
   "outputs": [],
   "source": [
    "# 🧠 7. TextCNN Model\n",
    "class TextCNN(nn.Module):\n",
    "    def __init__(self, vocab_size, embed_dim, num_classes, kernel_sizes=[3, 4, 5], num_filters=100):\n",
    "        super(TextCNN, self).__init__()\n",
    "        self.embedding = nn.Embedding(vocab_size, embed_dim, padding_idx=pad_idx)\n",
    "        self.convs = nn.ModuleList([\n",
    "            nn.Conv2d(1, num_filters, (k, embed_dim)) for k in kernel_sizes\n",
    "        ])\n",
    "        self.dropout = nn.Dropout(0.5)\n",
    "        self.fc = nn.Linear(len(kernel_sizes) * num_filters, num_classes)\n",
    "\n",
    "    def forward(self, x):\n",
    "        x = self.embedding(x)  # [B, L, E]\n",
    "        x = x.unsqueeze(1)     # [B, 1, L, E]\n",
    "        x = [torch.relu(conv(x)).squeeze(3) for conv in self.convs]\n",
    "        x = [torch.max(pool, dim=2)[0] for pool in x]\n",
    "        x = torch.cat(x, dim=1)\n",
    "        x = self.dropout(x)\n",
    "        return self.fc(x)\n",
    "\n",
    "model = TextCNN(vocab_size=len(word2idx), embed_dim=128, num_classes=len(label2idx)).to(device)\n"
   ]
  },
  {
   "cell_type": "code",
   "execution_count": 36,
   "id": "f889ab84",
   "metadata": {},
   "outputs": [],
   "source": [
    "from sklearn.metrics import accuracy_score, f1_score, confusion_matrix, classification_report\n",
    "import seaborn as sns\n",
    "import matplotlib.pyplot as plt\n",
    "\n",
    "def evaluate(model, dataloader, criterion, device, label_encoder):\n",
    "    model.eval()\n",
    "    all_preds = []\n",
    "    all_labels = []\n",
    "    total_loss = 0\n",
    "\n",
    "    with torch.no_grad():\n",
    "        for batch in dataloader:\n",
    "            inputs, labels = batch\n",
    "            inputs, labels = inputs.to(device), labels.to(device)\n",
    "\n",
    "            outputs = model(inputs)\n",
    "            loss = criterion(outputs, labels)\n",
    "            total_loss += loss.item()\n",
    "\n",
    "            preds = torch.argmax(outputs, dim=1)\n",
    "            all_preds.extend(preds.cpu().numpy())\n",
    "            all_labels.extend(labels.cpu().numpy())\n",
    "\n",
    "    acc = accuracy_score(all_labels, all_preds)\n",
    "    f1 = f1_score(all_labels, all_preds, average='weighted')\n",
    "    cm = confusion_matrix(all_labels, all_preds)\n",
    "\n",
    "    print(f\"\\n🧪 Validation Loss: {total_loss / len(dataloader):.4f}\")\n",
    "    print(f\"✅ Accuracy: {acc:.4f} | 🎯 F1 Score: {f1:.4f}\\n\")\n",
    "    print(classification_report(all_labels, all_preds, target_names=label_encoder.classes_))\n",
    "\n",
    "    plt.figure(figsize=(8, 6))\n",
    "    sns.heatmap(cm, annot=True, fmt='d', cmap='Blues', xticklabels=label_encoder.classes_, yticklabels=label_encoder.classes_)\n",
    "    plt.title(\"Confusion Matrix\")\n",
    "    plt.xlabel(\"Predicted\")\n",
    "    plt.ylabel(\"True\")\n",
    "    plt.show()\n"
   ]
  },
  {
   "cell_type": "code",
   "execution_count": 37,
   "id": "96a3de9a",
   "metadata": {},
   "outputs": [
    {
     "name": "stdout",
     "output_type": "stream",
     "text": [
      "Epoch 1 | 🧠 Loss: 125.1294 | ✅ Train Accuracy: 0.3876\n",
      "Epoch 2 | 🧠 Loss: 92.8455 | ✅ Train Accuracy: 0.5565\n",
      "Epoch 3 | 🧠 Loss: 77.2702 | ✅ Train Accuracy: 0.6531\n",
      "Epoch 4 | 🧠 Loss: 64.5030 | ✅ Train Accuracy: 0.7173\n",
      "Epoch 5 | 🧠 Loss: 53.1898 | ✅ Train Accuracy: 0.7746\n",
      "Epoch 6 | 🧠 Loss: 45.8249 | ✅ Train Accuracy: 0.8114\n",
      "Epoch 7 | 🧠 Loss: 38.2646 | ✅ Train Accuracy: 0.8381\n",
      "Epoch 8 | 🧠 Loss: 31.7983 | ✅ Train Accuracy: 0.8687\n",
      "Epoch 9 | 🧠 Loss: 27.2264 | ✅ Train Accuracy: 0.8869\n",
      "Epoch 10 | 🧠 Loss: 21.6684 | ✅ Train Accuracy: 0.9161\n",
      "Epoch 11 | 🧠 Loss: 18.1896 | ✅ Train Accuracy: 0.9266\n",
      "Epoch 12 | 🧠 Loss: 16.4088 | ✅ Train Accuracy: 0.9393\n",
      "Epoch 13 | 🧠 Loss: 12.1590 | ✅ Train Accuracy: 0.9582\n",
      "Epoch 14 | 🧠 Loss: 10.9405 | ✅ Train Accuracy: 0.9582\n",
      "Epoch 15 | 🧠 Loss: 8.8575 | ✅ Train Accuracy: 0.9747\n",
      "Epoch 16 | 🧠 Loss: 8.1172 | ✅ Train Accuracy: 0.9723\n",
      "Epoch 17 | 🧠 Loss: 6.6417 | ✅ Train Accuracy: 0.9793\n",
      "Epoch 18 | 🧠 Loss: 5.4080 | ✅ Train Accuracy: 0.9849\n",
      "Epoch 19 | 🧠 Loss: 4.3015 | ✅ Train Accuracy: 0.9888\n",
      "Epoch 20 | 🧠 Loss: 4.4261 | ✅ Train Accuracy: 0.9888\n",
      "Epoch 21 | 🧠 Loss: 4.2720 | ✅ Train Accuracy: 0.9856\n",
      "Epoch 22 | 🧠 Loss: 3.8171 | ✅ Train Accuracy: 0.9895\n",
      "Epoch 23 | 🧠 Loss: 2.7092 | ✅ Train Accuracy: 0.9951\n",
      "Epoch 24 | 🧠 Loss: 2.8107 | ✅ Train Accuracy: 0.9930\n",
      "Epoch 25 | 🧠 Loss: 1.9308 | ✅ Train Accuracy: 0.9972\n",
      "\n",
      "🧪 Validation Loss: 0.6934\n",
      "✅ Accuracy: 0.7546 | 🎯 F1 Score: 0.7571\n",
      "\n",
      "              precision    recall  f1-score   support\n",
      "\n",
      "       happy       0.61      0.78      0.68       200\n",
      "     neutral       0.81      0.64      0.71       200\n",
      "   nightmare       0.82      0.82      0.82       146\n",
      "         sad       0.89      0.81      0.85       167\n",
      "\n",
      "    accuracy                           0.75       713\n",
      "   macro avg       0.78      0.76      0.76       713\n",
      "weighted avg       0.77      0.75      0.76       713\n",
      "\n"
     ]
    },
    {
     "data": {
      "image/png": "[encoded data removed]",
      "text/plain": [
       "<Figure size 800x600 with 2 Axes>"
      ]
     },
     "metadata": {},
     "output_type": "display_data"
    }
   ],
   "source": [
    "# 📉 Loss & Optimizer\n",
    "class_counts = train_df[\"label_encoded\"].value_counts().sort_index().values\n",
    "weights = torch.tensor(1.0 / class_counts, dtype=torch.float32).to(device)\n",
    "loss_fn = nn.CrossEntropyLoss(weight=weights)\n",
    "optimizer = torch.optim.Adam(model.parameters(), lr=1e-3)\n",
    "\n",
    "# 🏋️ Training Loop (no evaluation)\n",
    "def train_model(model, epochs=25):\n",
    "    for epoch in range(epochs):\n",
    "        model.train()\n",
    "        total_loss, correct = 0, 0\n",
    "\n",
    "        for x, y in train_loader:\n",
    "            x, y = x.to(device), y.to(device)\n",
    "            out = model(x)\n",
    "            loss = loss_fn(out, y)\n",
    "            optimizer.zero_grad()\n",
    "            loss.backward()\n",
    "            optimizer.step()\n",
    "\n",
    "            total_loss += loss.item()\n",
    "            correct += (out.argmax(1) == y).sum().item()\n",
    "\n",
    "        acc = correct / len(train_loader.dataset)\n",
    "        print(f\"Epoch {epoch+1} | 🧠 Loss: {total_loss:.4f} | ✅ Train Accuracy: {acc:.4f}\")\n",
    "\n",
    "# 🚀 Start Training\n",
    "train_model(model)\n",
    "\n",
    "# 📊 Evaluate separately after training\n",
    "evaluate(model, val_loader, loss_fn, device, label_encoder)\n"
   ]
  },
  {
   "cell_type": "code",
   "execution_count": 38,
   "id": "3316d4dd",
   "metadata": {},
   "outputs": [
    {
     "name": "stdout",
     "output_type": "stream",
     "text": [
      "nightmare\n"
     ]
    }
   ],
   "source": [
    "# 🔮 11. Inference Example\n",
    "def predict(text):\n",
    "    model.eval()\n",
    "    tokens = numericalize(text)[:100]\n",
    "    padded = tokens + [pad_idx] * (100 - len(tokens))\n",
    "    input_tensor = torch.tensor(padded).unsqueeze(0).to(device)\n",
    "    with torch.no_grad():\n",
    "        output = model(input_tensor)\n",
    "        pred = torch.argmax(output, dim=1).item()\n",
    "    return idx2label[pred]\n",
    "\n",
    "print(predict(\"I had a strange dream about flying and falling\"))\n"
   ]
  }
 ],
 "metadata": {
  "kernelspec": {
   "display_name": "Python 3",
   "language": "python",
   "name": "python3"
  },
  "language_info": {
   "codemirror_mode": {
    "name": "ipython",
    "version": 3
   },
   "file_extension": ".py",
   "mimetype": "text/x-python",
   "name": "python",
   "nbconvert_exporter": "python",
   "pygments_lexer": "ipython3",
   "version": "3.11.0"
  }
 },
 "nbformat": 4,
 "nbformat_minor": 5
}
